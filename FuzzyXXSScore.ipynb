{
  "nbformat": 4,
  "nbformat_minor": 0,
  "metadata": {
    "colab": {
      "provenance": [],
      "authorship_tag": "ABX9TyPncJAdHNOPMFNfinW5Pz3R",
      "include_colab_link": true
    },
    "kernelspec": {
      "name": "python3",
      "display_name": "Python 3"
    },
    "language_info": {
      "name": "python"
    }
  },
  "cells": [
    {
      "cell_type": "markdown",
      "metadata": {
        "id": "view-in-github",
        "colab_type": "text"
      },
      "source": [
        "<a href=\"https://colab.research.google.com/github/Har123ini/ABC/blob/main/FuzzyXXSScore.ipynb\" target=\"_parent\"><img src=\"https://colab.research.google.com/assets/colab-badge.svg\" alt=\"Open In Colab\"/></a>"
      ]
    },
    {
      "cell_type": "markdown",
      "source": [
        "Fuzzy Infernce System for Cross Site forgery prevention\n"
      ],
      "metadata": {
        "id": "ysZu0Evj2nH5"
      }
    },
    {
      "cell_type": "markdown",
      "source": [
        "installing scikit-fuzzy library"
      ],
      "metadata": {
        "id": "g3F1coEs3AxT"
      }
    },
    {
      "cell_type": "code",
      "execution_count": null,
      "metadata": {
        "colab": {
          "base_uri": "https://localhost:8080/"
        },
        "id": "dsg9DOjd0mYn",
        "outputId": "86fa207b-5ec8-4f18-aac1-6a4c7a3cfe00"
      },
      "outputs": [
        {
          "output_type": "stream",
          "name": "stdout",
          "text": [
            "Collecting scikit-fuzzy\n",
            "  Downloading scikit-fuzzy-0.4.2.tar.gz (993 kB)\n",
            "\u001b[?25l     \u001b[90m━━━━━━━━━━━━━━━━━━━━━━━━━━━━━━━━━━━━━━━━\u001b[0m \u001b[32m0.0/994.0 kB\u001b[0m \u001b[31m?\u001b[0m eta \u001b[36m-:--:--\u001b[0m\r\u001b[2K     \u001b[91m━━━━━━━━━━━\u001b[0m\u001b[90m╺\u001b[0m\u001b[90m━━━━━━━━━━━━━━━━━━━━━━━━━━━\u001b[0m \u001b[32m286.7/994.0 kB\u001b[0m \u001b[31m8.4 MB/s\u001b[0m eta \u001b[36m0:00:01\u001b[0m\r\u001b[2K     \u001b[91m━━━━━━━━━━━━━━━━━━━━━━━━━━━━━━━━━━━━━\u001b[0m\u001b[91m╸\u001b[0m \u001b[32m993.3/994.0 kB\u001b[0m \u001b[31m16.7 MB/s\u001b[0m eta \u001b[36m0:00:01\u001b[0m\r\u001b[2K     \u001b[90m━━━━━━━━━━━━━━━━━━━━━━━━━━━━━━━━━━━━━━\u001b[0m \u001b[32m994.0/994.0 kB\u001b[0m \u001b[31m13.7 MB/s\u001b[0m eta \u001b[36m0:00:00\u001b[0m\n",
            "\u001b[?25h  Preparing metadata (setup.py) ... \u001b[?25l\u001b[?25hdone\n",
            "Requirement already satisfied: numpy>=1.6.0 in /usr/local/lib/python3.10/dist-packages (from scikit-fuzzy) (1.22.4)\n",
            "Requirement already satisfied: scipy>=0.9.0 in /usr/local/lib/python3.10/dist-packages (from scikit-fuzzy) (1.10.1)\n",
            "Requirement already satisfied: networkx>=1.9.0 in /usr/local/lib/python3.10/dist-packages (from scikit-fuzzy) (3.1)\n",
            "Building wheels for collected packages: scikit-fuzzy\n",
            "  Building wheel for scikit-fuzzy (setup.py) ... \u001b[?25l\u001b[?25hdone\n",
            "  Created wheel for scikit-fuzzy: filename=scikit_fuzzy-0.4.2-py3-none-any.whl size=894073 sha256=f274af59853c286b96a9e1b9c83fd3d608e57dea4388554a5ba75f5e3abf7010\n",
            "  Stored in directory: /root/.cache/pip/wheels/4f/86/1b/dfd97134a2c8313e519bcebd95d3fedc7be7944db022094bc8\n",
            "Successfully built scikit-fuzzy\n",
            "Installing collected packages: scikit-fuzzy\n",
            "Successfully installed scikit-fuzzy-0.4.2\n"
          ]
        }
      ],
      "source": [
        "!pip install scikit-fuzzy"
      ]
    },
    {
      "cell_type": "markdown",
      "source": [
        "Import necessary libraries"
      ],
      "metadata": {
        "id": "TdQeXdum28aJ"
      }
    },
    {
      "cell_type": "code",
      "source": [
        "import numpy as np\n",
        "import skfuzzy as fuzz\n",
        "from skfuzzy import control as ctrl"
      ],
      "metadata": {
        "id": "fCJ8Wnoy1kCe"
      },
      "execution_count": null,
      "outputs": []
    },
    {
      "cell_type": "code",
      "source": [
        "# Define the antecedents and consequent variables\n",
        "input_length = ctrl.Antecedent(np.arange(0, 101, 1), 'input_length')\n",
        "special_chars = ctrl.Antecedent(np.arange(0, 101, 1), 'special_chars')\n",
        "output_score = ctrl.Consequent(np.arange(0, 101, 1), 'output_score')"
      ],
      "metadata": {
        "id": "OhE_Rhc_1mrj"
      },
      "execution_count": null,
      "outputs": []
    },
    {
      "cell_type": "markdown",
      "source": [
        "Here, we create three variables: input_length, special_chars, and output_score. The first two are antecedents, representing input variables, while the last one is the consequent, representing the output variable. We specify the range of each variable using np.arange() and provide a name for each variable."
      ],
      "metadata": {
        "id": "Cw7VYahc3IMc"
      }
    },
    {
      "cell_type": "code",
      "source": [
        "# Define membership functions for each variable\n",
        "input_length['short'] = fuzz.trimf(input_length.universe, [0, 0, 50])\n",
        "input_length['medium'] = fuzz.trimf(input_length.universe, [0, 50, 100])\n",
        "input_length['long'] = fuzz.trimf(input_length.universe, [50, 100, 100])\n",
        "\n",
        "special_chars['low'] = fuzz.trimf(special_chars.universe, [0, 0, 50])\n",
        "special_chars['medium'] = fuzz.trimf(special_chars.universe, [0, 50, 100])\n",
        "special_chars['high'] = fuzz.trimf(special_chars.universe, [50, 100, 100])\n",
        "\n",
        "output_score['low'] = fuzz.trimf(output_score.universe, [0, 0, 50])\n",
        "output_score['medium'] = fuzz.trimf(output_score.universe, [0, 50, 100])\n",
        "output_score['high'] = fuzz.trimf(output_score.universe, [50, 100, 100])"
      ],
      "metadata": {
        "id": "FnqRf2Gv1p0v"
      },
      "execution_count": null,
      "outputs": []
    },
    {
      "cell_type": "markdown",
      "source": [
        "Here, we define the membership functions for each variable. Membership functions define how each input/output variable is mapped to fuzzy sets. In this code, we use triangular membership functions (fuzz.trimf()) to define linguistic terms like \"short,\" \"medium,\" and \"long\" for input_length, \"low,\" \"medium,\" and \"high\" for special_chars and output_score."
      ],
      "metadata": {
        "id": "cUp8qY2Z3O05"
      }
    },
    {
      "cell_type": "code",
      "source": [
        "# Define fuzzy rules\n",
        "rule1 = ctrl.Rule(input_length['short'] & special_chars['low'], output_score['low'])\n",
        "rule2 = ctrl.Rule(input_length['medium'] & special_chars['medium'], output_score['medium'])\n",
        "rule3 = ctrl.Rule(input_length['long'] & special_chars['high'], output_score['high'])"
      ],
      "metadata": {
        "id": "D8IwblW01tQ_"
      },
      "execution_count": null,
      "outputs": []
    },
    {
      "cell_type": "markdown",
      "source": [
        "Here, we define fuzzy rules that map the antecedents to the consequent. For example, rule 1 states that if input_length is \"short\" and special_chars is \"low,\" then output_score is \"low\". We use the ctrl.Rule() function to create each rule."
      ],
      "metadata": {
        "id": "8X3owljL3VDo"
      }
    },
    {
      "cell_type": "code",
      "source": [
        "# Create a fuzzy control system\n",
        "fuzzy_system = ctrl.ControlSystem([rule1, rule2, rule3])\n",
        "fuzzy_simulator = ctrl.ControlSystemSimulation(fuzzy_system)"
      ],
      "metadata": {
        "id": "04agiZtp1zDN"
      },
      "execution_count": null,
      "outputs": []
    },
    {
      "cell_type": "markdown",
      "source": [
        "We create a fuzzy control system using ctrl.ControlSystem() and pass the list of rules to it. Then, we create a control system simulation object fuzzy_simulator to simulate the control system."
      ],
      "metadata": {
        "id": "vqbNN1-O3drm"
      }
    },
    {
      "cell_type": "code",
      "source": [
        "# Set inputs to the fuzzy system\n",
        "fuzzy_simulator.input['input_length'] = 75  # Example input length\n",
        "fuzzy_simulator.input['special_chars'] = 40  # Example number of special characters"
      ],
      "metadata": {
        "id": "orHiUqWN13fT"
      },
      "execution_count": null,
      "outputs": []
    },
    {
      "cell_type": "markdown",
      "source": [
        "We set the inputs to the fuzzy system using the input['variable_name'] syntax. In this code, we set input_length to 75 and special_chars to 40 as example input values."
      ],
      "metadata": {
        "id": "SW2dm3fT3e0M"
      }
    },
    {
      "cell_type": "code",
      "source": [
        "# Evaluate the fuzzy system\n",
        "fuzzy_simulator.compute()"
      ],
      "metadata": {
        "id": "8bim-vbR179Y"
      },
      "execution_count": null,
      "outputs": []
    },
    {
      "cell_type": "markdown",
      "source": [
        "We compute the fuzzy system by calling the compute() method on the fuzzy_simulator object."
      ],
      "metadata": {
        "id": "w_D-cwVl3kyK"
      }
    },
    {
      "cell_type": "code",
      "source": [
        "# Get the output\n",
        "output = fuzzy_simulator.output['output_score']\n",
        "print(\"XSS Score:\", output)"
      ],
      "metadata": {
        "colab": {
          "base_uri": "https://localhost:8080/"
        },
        "id": "ND_b3FX219Es",
        "outputId": "2685c60f-7784-4fde-8199-78af35476a65"
      },
      "execution_count": null,
      "outputs": [
        {
          "output_type": "stream",
          "name": "stdout",
          "text": [
            "XSS Score: 50.0\n"
          ]
        }
      ]
    },
    {
      "cell_type": "markdown",
      "source": [
        "We retrieve the output score from the fuzzy system using fuzzy_simulator.output['output_score']. Finally, we print the XSS score."
      ],
      "metadata": {
        "id": "4vP0n-703oIt"
      }
    },
    {
      "cell_type": "markdown",
      "source": [
        "Overall, this code demonstrates a basic implementation of a fuzzy inference system for XSS forgery prevention. The inputs, membership functions, fuzzy rules, and outputs are defined, and the system is simulated to obtain an XSS score based on the provided input values."
      ],
      "metadata": {
        "id": "XEJ2aUKq3rJR"
      }
    }
  ]
}